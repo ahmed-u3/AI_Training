{
 "cells": [
  {
   "cell_type": "markdown",
   "metadata": {},
   "source": [
    "#  Writing a Deep Learning (Neural Network) Model to Predict\n",
    "Written By: Mark Ehab Aziz"
   ]
  },
  {
   "cell_type": "markdown",
   "metadata": {},
   "source": [
    "# Premise\n",
    "Given a set of numbers, utilise a NN model to minimize Loss."
   ]
  },
  {
   "cell_type": "code",
   "execution_count": 68,
   "metadata": {},
   "outputs": [],
   "source": [
    "# Importing basic libraries to be used\n",
    "import numpy as np                  # Linear Algebra and Maths\n",
    "import pandas as pd                 # Data handling\n",
    "import seaborn as sns               # Modern Plotting\n",
    "import matplotlib.pyplot as plt     # Classic-esque Plotting\n",
    "from typing import List\n",
    "\n",
    "# Preprocessing\n",
    "from sklearn.preprocessing import MinMaxScaler\n",
    "\n",
    "# Importing Neural Network related Libraries\n",
    "import keras\n",
    "from keras import losses  as k_loss\n",
    "from keras import metrics as k_metrics\n",
    "from keras import optimizers as k_optims"
   ]
  },
  {
   "cell_type": "code",
   "execution_count": 69,
   "metadata": {},
   "outputs": [],
   "source": [
    "df = pd.read_csv(\"data/rand_data.csv\")"
   ]
  },
  {
   "cell_type": "code",
   "execution_count": 70,
   "metadata": {},
   "outputs": [],
   "source": [
    "# Normalising data values\n",
    "def minmax_Scaler(data: pd.DataFrame, cols: List[str], scale_range = (0, 1)) -> pd.DataFrame:\n",
    "    scaler = MinMaxScaler(feature_range = scale_range)\n",
    "\n",
    "    for (_, column) in enumerate(cols):\n",
    "        data[[column]] = scaler.fit_transform(data[[column]])\n",
    "\n",
    "    return data"
   ]
  },
  {
   "cell_type": "code",
   "execution_count": 71,
   "metadata": {},
   "outputs": [
    {
     "data": {
      "text/html": [
       "<div>\n",
       "<style scoped>\n",
       "    .dataframe tbody tr th:only-of-type {\n",
       "        vertical-align: middle;\n",
       "    }\n",
       "\n",
       "    .dataframe tbody tr th {\n",
       "        vertical-align: top;\n",
       "    }\n",
       "\n",
       "    .dataframe thead th {\n",
       "        text-align: right;\n",
       "    }\n",
       "</style>\n",
       "<table border=\"1\" class=\"dataframe\">\n",
       "  <thead>\n",
       "    <tr style=\"text-align: right;\">\n",
       "      <th></th>\n",
       "      <th>col01</th>\n",
       "      <th>col02</th>\n",
       "      <th>col03</th>\n",
       "      <th>col04</th>\n",
       "      <th>col05</th>\n",
       "      <th>col06</th>\n",
       "      <th>col07</th>\n",
       "      <th>col08</th>\n",
       "      <th>col09</th>\n",
       "      <th>col10</th>\n",
       "      <th>col11</th>\n",
       "      <th>y</th>\n",
       "    </tr>\n",
       "  </thead>\n",
       "  <tbody>\n",
       "    <tr>\n",
       "      <th>0</th>\n",
       "      <td>0.144444</td>\n",
       "      <td>0.417409</td>\n",
       "      <td>0.271429</td>\n",
       "      <td>0.366667</td>\n",
       "      <td>0.42</td>\n",
       "      <td>0.284615</td>\n",
       "      <td>0.366667</td>\n",
       "      <td>0.366667</td>\n",
       "      <td>0.442857</td>\n",
       "      <td>0.433333</td>\n",
       "      <td>0.1</td>\n",
       "      <td>0</td>\n",
       "    </tr>\n",
       "    <tr>\n",
       "      <th>1</th>\n",
       "      <td>0.653846</td>\n",
       "      <td>0.731579</td>\n",
       "      <td>0.557143</td>\n",
       "      <td>0.633333</td>\n",
       "      <td>0.70</td>\n",
       "      <td>0.592308</td>\n",
       "      <td>0.100000</td>\n",
       "      <td>0.633333</td>\n",
       "      <td>0.785714</td>\n",
       "      <td>0.766667</td>\n",
       "      <td>0.5</td>\n",
       "      <td>1</td>\n",
       "    </tr>\n",
       "    <tr>\n",
       "      <th>2</th>\n",
       "      <td>0.100000</td>\n",
       "      <td>0.100000</td>\n",
       "      <td>0.100000</td>\n",
       "      <td>0.100000</td>\n",
       "      <td>0.10</td>\n",
       "      <td>0.100000</td>\n",
       "      <td>0.633333</td>\n",
       "      <td>0.100000</td>\n",
       "      <td>0.100000</td>\n",
       "      <td>0.100000</td>\n",
       "      <td>0.1</td>\n",
       "      <td>0</td>\n",
       "    </tr>\n",
       "    <tr>\n",
       "      <th>3</th>\n",
       "      <td>0.900000</td>\n",
       "      <td>0.900000</td>\n",
       "      <td>0.900000</td>\n",
       "      <td>0.900000</td>\n",
       "      <td>0.90</td>\n",
       "      <td>0.900000</td>\n",
       "      <td>0.900000</td>\n",
       "      <td>0.900000</td>\n",
       "      <td>0.900000</td>\n",
       "      <td>0.900000</td>\n",
       "      <td>0.9</td>\n",
       "      <td>1</td>\n",
       "    </tr>\n",
       "    <tr>\n",
       "      <th>4</th>\n",
       "      <td>0.322222</td>\n",
       "      <td>0.566397</td>\n",
       "      <td>0.369388</td>\n",
       "      <td>0.500000</td>\n",
       "      <td>0.50</td>\n",
       "      <td>0.407692</td>\n",
       "      <td>0.526667</td>\n",
       "      <td>0.526667</td>\n",
       "      <td>0.500000</td>\n",
       "      <td>0.633333</td>\n",
       "      <td>0.5</td>\n",
       "      <td>0</td>\n",
       "    </tr>\n",
       "  </tbody>\n",
       "</table>\n",
       "</div>"
      ],
      "text/plain": [
       "      col01     col02     col03     col04  col05     col06     col07  \\\n",
       "0  0.144444  0.417409  0.271429  0.366667   0.42  0.284615  0.366667   \n",
       "1  0.653846  0.731579  0.557143  0.633333   0.70  0.592308  0.100000   \n",
       "2  0.100000  0.100000  0.100000  0.100000   0.10  0.100000  0.633333   \n",
       "3  0.900000  0.900000  0.900000  0.900000   0.90  0.900000  0.900000   \n",
       "4  0.322222  0.566397  0.369388  0.500000   0.50  0.407692  0.526667   \n",
       "\n",
       "      col08     col09     col10  col11  y  \n",
       "0  0.366667  0.442857  0.433333    0.1  0  \n",
       "1  0.633333  0.785714  0.766667    0.5  1  \n",
       "2  0.100000  0.100000  0.100000    0.1  0  \n",
       "3  0.900000  0.900000  0.900000    0.9  1  \n",
       "4  0.526667  0.500000  0.633333    0.5  0  "
      ]
     },
     "execution_count": 71,
     "metadata": {},
     "output_type": "execute_result"
    }
   ],
   "source": [
    "col_list = ['col01', 'col02', 'col03', 'col04', 'col05', 'col06', 'col07', 'col08', 'col09', 'col10', 'col11']\n",
    "\n",
    "df = minmax_Scaler(df, col_list, (0.1, 0.9))\n",
    "\n",
    "df.head()"
   ]
  },
  {
   "cell_type": "code",
   "execution_count": 72,
   "metadata": {},
   "outputs": [],
   "source": [
    "x_input = np.array(df.iloc[:, 0:11].values)\n",
    "y_outpt = np.array(df.iloc[:, 11].values).reshape((-1, 1))"
   ]
  },
  {
   "cell_type": "code",
   "execution_count": 73,
   "metadata": {},
   "outputs": [
    {
     "data": {
      "text/plain": [
       "array([[0],\n",
       "       [1],\n",
       "       [0],\n",
       "       [1],\n",
       "       [0]], dtype=int64)"
      ]
     },
     "execution_count": 73,
     "metadata": {},
     "output_type": "execute_result"
    }
   ],
   "source": [
    "y_outpt"
   ]
  },
  {
   "cell_type": "code",
   "execution_count": 74,
   "metadata": {},
   "outputs": [
    {
     "data": {
      "text/plain": [
       "array([[0.14444444, 0.41740891, 0.27142857, 0.36666667, 0.42      ,\n",
       "        0.28461538, 0.36666667, 0.36666667, 0.44285714, 0.43333333,\n",
       "        0.1       ],\n",
       "       [0.65384615, 0.73157895, 0.55714286, 0.63333333, 0.7       ,\n",
       "        0.59230769, 0.1       , 0.63333333, 0.78571429, 0.76666667,\n",
       "        0.5       ],\n",
       "       [0.1       , 0.1       , 0.1       , 0.1       , 0.1       ,\n",
       "        0.1       , 0.63333333, 0.1       , 0.1       , 0.1       ,\n",
       "        0.1       ],\n",
       "       [0.9       , 0.9       , 0.9       , 0.9       , 0.9       ,\n",
       "        0.9       , 0.9       , 0.9       , 0.9       , 0.9       ,\n",
       "        0.9       ],\n",
       "       [0.32222222, 0.56639676, 0.36938776, 0.5       , 0.5       ,\n",
       "        0.40769231, 0.52666667, 0.52666667, 0.5       , 0.63333333,\n",
       "        0.5       ]])"
      ]
     },
     "execution_count": 74,
     "metadata": {},
     "output_type": "execute_result"
    }
   ],
   "source": [
    "x_input"
   ]
  },
  {
   "cell_type": "code",
   "execution_count": 75,
   "metadata": {},
   "outputs": [],
   "source": [
    "# Define the NN Model\n",
    "model = keras.models.Sequential()\n",
    "\n",
    "model.add(keras.layers.Dense(16, activation = 'relu'))\n",
    "model.add(keras.layers.Dense(8, activation = 'relu'))\n",
    "model.add(keras.layers.Dense(1, activation = 'sigmoid'))"
   ]
  },
  {
   "cell_type": "code",
   "execution_count": 76,
   "metadata": {},
   "outputs": [],
   "source": [
    "# List of optimisers\n",
    "optims = [k_optims.Adam(), k_optims.AdamW(), k_optims.SGD()]\n",
    "\n",
    "# Loss evaluation\n",
    "nn_model_loss = k_loss.BinaryCrossentropy()\n",
    "\n",
    "# Evaluation Metrics\n",
    "eval_metrics = [k_metrics.Accuracy(),\\\n",
    "                k_metrics.BinaryAccuracy(),\\\n",
    "                k_metrics.BinaryCrossentropy,\\\n",
    "                k_metrics.MeanSquaredError()]"
   ]
  },
  {
   "cell_type": "code",
   "execution_count": 77,
   "metadata": {},
   "outputs": [
    {
     "name": "stdout",
     "output_type": "stream",
     "text": [
      "Epoch 1/2\n",
      "\u001b[1m2/2\u001b[0m \u001b[32m━━━━━━━━━━━━━━━━━━━━\u001b[0m\u001b[37m\u001b[0m \u001b[1m1s\u001b[0m 4ms/step - accuracy: 0.0000e+00 - binary_accuracy: 0.3778 - binary_crossentropy: 0.6872 - loss: 0.6872 - mean_squared_error: 0.2473  \n",
      "Epoch 2/2\n",
      "\u001b[1m2/2\u001b[0m \u001b[32m━━━━━━━━━━━━━━━━━━━━\u001b[0m\u001b[37m\u001b[0m \u001b[1m0s\u001b[0m 4ms/step - accuracy: 0.0000e+00 - binary_accuracy: 0.2667 - binary_crossentropy: 0.7135 - loss: 0.7135 - mean_squared_error: 0.2604     \n",
      "\u001b[1m1/1\u001b[0m \u001b[32m━━━━━━━━━━━━━━━━━━━━\u001b[0m\u001b[37m\u001b[0m \u001b[1m0s\u001b[0m 132ms/step - accuracy: 0.0000e+00 - binary_accuracy: 0.4000 - binary_crossentropy: 0.6745 - loss: 0.6745 - mean_squared_error: 0.2411\n",
      "Metrics: [0.674513578414917, 0.0, 0.4000000059604645, 0.674513578414917, 0.24108567833900452]\n",
      "Epoch 1/2\n",
      "\u001b[1m2/2\u001b[0m \u001b[32m━━━━━━━━━━━━━━━━━━━━\u001b[0m\u001b[37m\u001b[0m \u001b[1m1s\u001b[0m 4ms/step - accuracy: 0.0000e+00 - binary_accuracy: 0.3917 - binary_crossentropy: 0.6836 - loss: 0.6836 - mean_squared_error: 0.2427  \n",
      "Epoch 2/2\n",
      "\u001b[1m2/2\u001b[0m \u001b[32m━━━━━━━━━━━━━━━━━━━━\u001b[0m\u001b[37m\u001b[0m \u001b[1m0s\u001b[0m 4ms/step - accuracy: 0.0000e+00 - binary_accuracy: 0.3778 - binary_crossentropy: 0.6710 - loss: 0.6710 - mean_squared_error: 0.2394 \n",
      "\u001b[1m1/1\u001b[0m \u001b[32m━━━━━━━━━━━━━━━━━━━━\u001b[0m\u001b[37m\u001b[0m \u001b[1m0s\u001b[0m 131ms/step - accuracy: 0.0000e+00 - binary_accuracy: 0.4000 - binary_crossentropy: 0.6676 - loss: 0.6676 - mean_squared_error: 0.2377\n",
      "Metrics: [0.6676250696182251, 0.0, 0.4000000059604645, 0.6676250696182251, 0.23770248889923096]\n",
      "Epoch 1/2\n",
      "\u001b[1m2/2\u001b[0m \u001b[32m━━━━━━━━━━━━━━━━━━━━\u001b[0m\u001b[37m\u001b[0m \u001b[1m0s\u001b[0m 4ms/step - accuracy: 0.0000e+00 - binary_accuracy: 0.3500 - binary_crossentropy: 0.7048 - loss: 0.7048 - mean_squared_error: 0.2447  \n",
      "Epoch 2/2\n",
      "\u001b[1m2/2\u001b[0m \u001b[32m━━━━━━━━━━━━━━━━━━━━\u001b[0m\u001b[37m\u001b[0m \u001b[1m0s\u001b[0m 4ms/step - accuracy: 0.0000e+00 - binary_accuracy: 0.3778 - binary_crossentropy: 0.6730 - loss: 0.6730 - mean_squared_error: 0.2403 \n",
      "\u001b[1m1/1\u001b[0m \u001b[32m━━━━━━━━━━━━━━━━━━━━\u001b[0m\u001b[37m\u001b[0m \u001b[1m0s\u001b[0m 128ms/step - accuracy: 0.0000e+00 - binary_accuracy: 0.4000 - binary_crossentropy: 0.6655 - loss: 0.6655 - mean_squared_error: 0.2367\n",
      "Metrics: [0.6654946208000183, 0.0, 0.4000000059604645, 0.6654946208000183, 0.23665456473827362]\n"
     ]
    }
   ],
   "source": [
    "for (_, optim) in enumerate(optims):\n",
    "    model.compile(loss = nn_model_loss, optimizer = optim, metrics = eval_metrics)\n",
    "\n",
    "    model.fit(x_input, y_outpt, epochs = 2, batch_size = 3)\n",
    "\n",
    "    dunno = model.evaluate(x_input, y_outpt)\n",
    "\n",
    "    print(f\"Metrics: {dunno}\")"
   ]
  }
 ],
 "metadata": {
  "kernelspec": {
   "display_name": "Python 3",
   "language": "python",
   "name": "python3"
  },
  "language_info": {
   "codemirror_mode": {
    "name": "ipython",
    "version": 3
   },
   "file_extension": ".py",
   "mimetype": "text/x-python",
   "name": "python",
   "nbconvert_exporter": "python",
   "pygments_lexer": "ipython3",
   "version": "3.12.2"
  }
 },
 "nbformat": 4,
 "nbformat_minor": 2
}
