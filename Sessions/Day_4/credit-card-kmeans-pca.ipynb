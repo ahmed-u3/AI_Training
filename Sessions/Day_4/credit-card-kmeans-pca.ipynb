{
 "cells": [
  {
   "cell_type": "markdown",
   "id": "3322dd2e",
   "metadata": {
    "papermill": {
     "duration": 0.005711,
     "end_time": "2023-04-08T02:41:12.415891",
     "exception": false,
     "start_time": "2023-04-08T02:41:12.410180",
     "status": "completed"
    },
    "tags": []
   },
   "source": [
    "# Imports"
   ]
  },
  {
   "cell_type": "code",
   "execution_count": 53,
   "id": "b7a5f79b",
   "metadata": {
    "execution": {
     "iopub.execute_input": "2023-04-08T02:41:12.426629Z",
     "iopub.status.busy": "2023-04-08T02:41:12.426243Z",
     "iopub.status.idle": "2023-04-08T02:41:14.016305Z",
     "shell.execute_reply": "2023-04-08T02:41:14.015161Z"
    },
    "papermill": {
     "duration": 1.598789,
     "end_time": "2023-04-08T02:41:14.019376",
     "exception": false,
     "start_time": "2023-04-08T02:41:12.420587",
     "status": "completed"
    },
    "tags": []
   },
   "outputs": [],
   "source": [
    "import pandas as pd\n",
    "import numpy as np\n",
    "import seaborn as sns\n",
    "import matplotlib.pyplot as plt\n",
    "\n",
    "import matplotlib.pyplot as plt\n",
    "from sklearn.metrics import silhouette_score\n",
    "from sklearn.mixture import GaussianMixture\n",
    "from sklearn.cluster import KMeans\n",
    "from sklearn.decomposition import PCA\n",
    "from sklearn.preprocessing import StandardScaler"
   ]
  },
  {
   "cell_type": "markdown",
   "id": "f51b8243",
   "metadata": {
    "papermill": {
     "duration": 0.004288,
     "end_time": "2023-04-08T02:41:14.028492",
     "exception": false,
     "start_time": "2023-04-08T02:41:14.024204",
     "status": "completed"
    },
    "tags": []
   },
   "source": [
    "# Data"
   ]
  },
  {
   "cell_type": "code",
   "execution_count": 2,
   "id": "ad0bae87",
   "metadata": {
    "execution": {
     "iopub.execute_input": "2023-04-08T02:41:14.038914Z",
     "iopub.status.busy": "2023-04-08T02:41:14.038551Z",
     "iopub.status.idle": "2023-04-08T02:41:14.091171Z",
     "shell.execute_reply": "2023-04-08T02:41:14.090397Z"
    },
    "papermill": {
     "duration": 0.061109,
     "end_time": "2023-04-08T02:41:14.094062",
     "exception": false,
     "start_time": "2023-04-08T02:41:14.032953",
     "status": "completed"
    },
    "tags": []
   },
   "outputs": [],
   "source": [
    "df = pd.read_csv('CC GENERAL.csv')"
   ]
  },
  {
   "cell_type": "code",
   "execution_count": 3,
   "id": "ebbaea30",
   "metadata": {
    "execution": {
     "iopub.execute_input": "2023-04-08T02:41:14.105724Z",
     "iopub.status.busy": "2023-04-08T02:41:14.105354Z",
     "iopub.status.idle": "2023-04-08T02:41:14.139786Z",
     "shell.execute_reply": "2023-04-08T02:41:14.138521Z"
    },
    "papermill": {
     "duration": 0.043099,
     "end_time": "2023-04-08T02:41:14.142630",
     "exception": false,
     "start_time": "2023-04-08T02:41:14.099531",
     "status": "completed"
    },
    "tags": []
   },
   "outputs": [
    {
     "data": {
      "text/html": [
       "<div>\n",
       "<style scoped>\n",
       "    .dataframe tbody tr th:only-of-type {\n",
       "        vertical-align: middle;\n",
       "    }\n",
       "\n",
       "    .dataframe tbody tr th {\n",
       "        vertical-align: top;\n",
       "    }\n",
       "\n",
       "    .dataframe thead th {\n",
       "        text-align: right;\n",
       "    }\n",
       "</style>\n",
       "<table border=\"1\" class=\"dataframe\">\n",
       "  <thead>\n",
       "    <tr style=\"text-align: right;\">\n",
       "      <th></th>\n",
       "      <th>CUST_ID</th>\n",
       "      <th>BALANCE</th>\n",
       "      <th>BALANCE_FREQUENCY</th>\n",
       "      <th>PURCHASES</th>\n",
       "      <th>ONEOFF_PURCHASES</th>\n",
       "      <th>INSTALLMENTS_PURCHASES</th>\n",
       "      <th>CASH_ADVANCE</th>\n",
       "      <th>PURCHASES_FREQUENCY</th>\n",
       "      <th>ONEOFF_PURCHASES_FREQUENCY</th>\n",
       "      <th>PURCHASES_INSTALLMENTS_FREQUENCY</th>\n",
       "      <th>CASH_ADVANCE_FREQUENCY</th>\n",
       "      <th>CASH_ADVANCE_TRX</th>\n",
       "      <th>PURCHASES_TRX</th>\n",
       "      <th>CREDIT_LIMIT</th>\n",
       "      <th>PAYMENTS</th>\n",
       "      <th>MINIMUM_PAYMENTS</th>\n",
       "      <th>PRC_FULL_PAYMENT</th>\n",
       "      <th>TENURE</th>\n",
       "    </tr>\n",
       "  </thead>\n",
       "  <tbody>\n",
       "    <tr>\n",
       "      <th>0</th>\n",
       "      <td>C10001</td>\n",
       "      <td>40.900749</td>\n",
       "      <td>0.818182</td>\n",
       "      <td>95.40</td>\n",
       "      <td>0.00</td>\n",
       "      <td>95.4</td>\n",
       "      <td>0.000000</td>\n",
       "      <td>0.166667</td>\n",
       "      <td>0.000000</td>\n",
       "      <td>0.083333</td>\n",
       "      <td>0.000000</td>\n",
       "      <td>0</td>\n",
       "      <td>2</td>\n",
       "      <td>1000.0</td>\n",
       "      <td>201.802084</td>\n",
       "      <td>139.509787</td>\n",
       "      <td>0.000000</td>\n",
       "      <td>12</td>\n",
       "    </tr>\n",
       "    <tr>\n",
       "      <th>1</th>\n",
       "      <td>C10002</td>\n",
       "      <td>3202.467416</td>\n",
       "      <td>0.909091</td>\n",
       "      <td>0.00</td>\n",
       "      <td>0.00</td>\n",
       "      <td>0.0</td>\n",
       "      <td>6442.945483</td>\n",
       "      <td>0.000000</td>\n",
       "      <td>0.000000</td>\n",
       "      <td>0.000000</td>\n",
       "      <td>0.250000</td>\n",
       "      <td>4</td>\n",
       "      <td>0</td>\n",
       "      <td>7000.0</td>\n",
       "      <td>4103.032597</td>\n",
       "      <td>1072.340217</td>\n",
       "      <td>0.222222</td>\n",
       "      <td>12</td>\n",
       "    </tr>\n",
       "    <tr>\n",
       "      <th>2</th>\n",
       "      <td>C10003</td>\n",
       "      <td>2495.148862</td>\n",
       "      <td>1.000000</td>\n",
       "      <td>773.17</td>\n",
       "      <td>773.17</td>\n",
       "      <td>0.0</td>\n",
       "      <td>0.000000</td>\n",
       "      <td>1.000000</td>\n",
       "      <td>1.000000</td>\n",
       "      <td>0.000000</td>\n",
       "      <td>0.000000</td>\n",
       "      <td>0</td>\n",
       "      <td>12</td>\n",
       "      <td>7500.0</td>\n",
       "      <td>622.066742</td>\n",
       "      <td>627.284787</td>\n",
       "      <td>0.000000</td>\n",
       "      <td>12</td>\n",
       "    </tr>\n",
       "    <tr>\n",
       "      <th>3</th>\n",
       "      <td>C10004</td>\n",
       "      <td>1666.670542</td>\n",
       "      <td>0.636364</td>\n",
       "      <td>1499.00</td>\n",
       "      <td>1499.00</td>\n",
       "      <td>0.0</td>\n",
       "      <td>205.788017</td>\n",
       "      <td>0.083333</td>\n",
       "      <td>0.083333</td>\n",
       "      <td>0.000000</td>\n",
       "      <td>0.083333</td>\n",
       "      <td>1</td>\n",
       "      <td>1</td>\n",
       "      <td>7500.0</td>\n",
       "      <td>0.000000</td>\n",
       "      <td>NaN</td>\n",
       "      <td>0.000000</td>\n",
       "      <td>12</td>\n",
       "    </tr>\n",
       "    <tr>\n",
       "      <th>4</th>\n",
       "      <td>C10005</td>\n",
       "      <td>817.714335</td>\n",
       "      <td>1.000000</td>\n",
       "      <td>16.00</td>\n",
       "      <td>16.00</td>\n",
       "      <td>0.0</td>\n",
       "      <td>0.000000</td>\n",
       "      <td>0.083333</td>\n",
       "      <td>0.083333</td>\n",
       "      <td>0.000000</td>\n",
       "      <td>0.000000</td>\n",
       "      <td>0</td>\n",
       "      <td>1</td>\n",
       "      <td>1200.0</td>\n",
       "      <td>678.334763</td>\n",
       "      <td>244.791237</td>\n",
       "      <td>0.000000</td>\n",
       "      <td>12</td>\n",
       "    </tr>\n",
       "  </tbody>\n",
       "</table>\n",
       "</div>"
      ],
      "text/plain": [
       "  CUST_ID      BALANCE  BALANCE_FREQUENCY  PURCHASES  ONEOFF_PURCHASES  \\\n",
       "0  C10001    40.900749           0.818182      95.40              0.00   \n",
       "1  C10002  3202.467416           0.909091       0.00              0.00   \n",
       "2  C10003  2495.148862           1.000000     773.17            773.17   \n",
       "3  C10004  1666.670542           0.636364    1499.00           1499.00   \n",
       "4  C10005   817.714335           1.000000      16.00             16.00   \n",
       "\n",
       "   INSTALLMENTS_PURCHASES  CASH_ADVANCE  PURCHASES_FREQUENCY  \\\n",
       "0                    95.4      0.000000             0.166667   \n",
       "1                     0.0   6442.945483             0.000000   \n",
       "2                     0.0      0.000000             1.000000   \n",
       "3                     0.0    205.788017             0.083333   \n",
       "4                     0.0      0.000000             0.083333   \n",
       "\n",
       "   ONEOFF_PURCHASES_FREQUENCY  PURCHASES_INSTALLMENTS_FREQUENCY  \\\n",
       "0                    0.000000                          0.083333   \n",
       "1                    0.000000                          0.000000   \n",
       "2                    1.000000                          0.000000   \n",
       "3                    0.083333                          0.000000   \n",
       "4                    0.083333                          0.000000   \n",
       "\n",
       "   CASH_ADVANCE_FREQUENCY  CASH_ADVANCE_TRX  PURCHASES_TRX  CREDIT_LIMIT  \\\n",
       "0                0.000000                 0              2        1000.0   \n",
       "1                0.250000                 4              0        7000.0   \n",
       "2                0.000000                 0             12        7500.0   \n",
       "3                0.083333                 1              1        7500.0   \n",
       "4                0.000000                 0              1        1200.0   \n",
       "\n",
       "      PAYMENTS  MINIMUM_PAYMENTS  PRC_FULL_PAYMENT  TENURE  \n",
       "0   201.802084        139.509787          0.000000      12  \n",
       "1  4103.032597       1072.340217          0.222222      12  \n",
       "2   622.066742        627.284787          0.000000      12  \n",
       "3     0.000000               NaN          0.000000      12  \n",
       "4   678.334763        244.791237          0.000000      12  "
      ]
     },
     "execution_count": 3,
     "metadata": {},
     "output_type": "execute_result"
    }
   ],
   "source": [
    "df.head()"
   ]
  },
  {
   "cell_type": "code",
   "execution_count": 4,
   "id": "c87c853b",
   "metadata": {
    "execution": {
     "iopub.execute_input": "2023-04-08T02:41:14.155008Z",
     "iopub.status.busy": "2023-04-08T02:41:14.154095Z",
     "iopub.status.idle": "2023-04-08T02:41:14.178757Z",
     "shell.execute_reply": "2023-04-08T02:41:14.177750Z"
    },
    "papermill": {
     "duration": 0.034186,
     "end_time": "2023-04-08T02:41:14.181789",
     "exception": false,
     "start_time": "2023-04-08T02:41:14.147603",
     "status": "completed"
    },
    "tags": []
   },
   "outputs": [
    {
     "name": "stdout",
     "output_type": "stream",
     "text": [
      "<class 'pandas.core.frame.DataFrame'>\n",
      "RangeIndex: 8950 entries, 0 to 8949\n",
      "Data columns (total 18 columns):\n",
      " #   Column                            Non-Null Count  Dtype  \n",
      "---  ------                            --------------  -----  \n",
      " 0   CUST_ID                           8950 non-null   object \n",
      " 1   BALANCE                           8950 non-null   float64\n",
      " 2   BALANCE_FREQUENCY                 8950 non-null   float64\n",
      " 3   PURCHASES                         8950 non-null   float64\n",
      " 4   ONEOFF_PURCHASES                  8950 non-null   float64\n",
      " 5   INSTALLMENTS_PURCHASES            8950 non-null   float64\n",
      " 6   CASH_ADVANCE                      8950 non-null   float64\n",
      " 7   PURCHASES_FREQUENCY               8950 non-null   float64\n",
      " 8   ONEOFF_PURCHASES_FREQUENCY        8950 non-null   float64\n",
      " 9   PURCHASES_INSTALLMENTS_FREQUENCY  8950 non-null   float64\n",
      " 10  CASH_ADVANCE_FREQUENCY            8950 non-null   float64\n",
      " 11  CASH_ADVANCE_TRX                  8950 non-null   int64  \n",
      " 12  PURCHASES_TRX                     8950 non-null   int64  \n",
      " 13  CREDIT_LIMIT                      8949 non-null   float64\n",
      " 14  PAYMENTS                          8950 non-null   float64\n",
      " 15  MINIMUM_PAYMENTS                  8637 non-null   float64\n",
      " 16  PRC_FULL_PAYMENT                  8950 non-null   float64\n",
      " 17  TENURE                            8950 non-null   int64  \n",
      "dtypes: float64(14), int64(3), object(1)\n",
      "memory usage: 1.2+ MB\n"
     ]
    }
   ],
   "source": [
    "df.info()"
   ]
  },
  {
   "cell_type": "code",
   "execution_count": 5,
   "id": "d898225e",
   "metadata": {
    "execution": {
     "iopub.execute_input": "2023-04-08T02:41:14.193380Z",
     "iopub.status.busy": "2023-04-08T02:41:14.192825Z",
     "iopub.status.idle": "2023-04-08T02:41:14.201746Z",
     "shell.execute_reply": "2023-04-08T02:41:14.200797Z"
    },
    "papermill": {
     "duration": 0.01699,
     "end_time": "2023-04-08T02:41:14.203871",
     "exception": false,
     "start_time": "2023-04-08T02:41:14.186881",
     "status": "completed"
    },
    "tags": []
   },
   "outputs": [
    {
     "data": {
      "text/plain": [
       "CUST_ID                               0\n",
       "BALANCE                               0\n",
       "BALANCE_FREQUENCY                     0\n",
       "PURCHASES                             0\n",
       "ONEOFF_PURCHASES                      0\n",
       "INSTALLMENTS_PURCHASES                0\n",
       "CASH_ADVANCE                          0\n",
       "PURCHASES_FREQUENCY                   0\n",
       "ONEOFF_PURCHASES_FREQUENCY            0\n",
       "PURCHASES_INSTALLMENTS_FREQUENCY      0\n",
       "CASH_ADVANCE_FREQUENCY                0\n",
       "CASH_ADVANCE_TRX                      0\n",
       "PURCHASES_TRX                         0\n",
       "CREDIT_LIMIT                          1\n",
       "PAYMENTS                              0\n",
       "MINIMUM_PAYMENTS                    313\n",
       "PRC_FULL_PAYMENT                      0\n",
       "TENURE                                0\n",
       "dtype: int64"
      ]
     },
     "execution_count": 5,
     "metadata": {},
     "output_type": "execute_result"
    }
   ],
   "source": [
    "df.isna().sum()"
   ]
  },
  {
   "cell_type": "code",
   "execution_count": 6,
   "id": "a97fee3c",
   "metadata": {
    "execution": {
     "iopub.execute_input": "2023-04-08T02:41:14.216198Z",
     "iopub.status.busy": "2023-04-08T02:41:14.215502Z",
     "iopub.status.idle": "2023-04-08T02:41:14.222675Z",
     "shell.execute_reply": "2023-04-08T02:41:14.221730Z"
    },
    "papermill": {
     "duration": 0.015345,
     "end_time": "2023-04-08T02:41:14.224805",
     "exception": false,
     "start_time": "2023-04-08T02:41:14.209460",
     "status": "completed"
    },
    "tags": []
   },
   "outputs": [],
   "source": [
    "df.drop('CUST_ID', axis = 1, inplace = True)"
   ]
  },
  {
   "cell_type": "code",
   "execution_count": 7,
   "id": "2260dfe2",
   "metadata": {
    "execution": {
     "iopub.execute_input": "2023-04-08T02:41:14.236019Z",
     "iopub.status.busy": "2023-04-08T02:41:14.235695Z",
     "iopub.status.idle": "2023-04-08T02:41:14.245035Z",
     "shell.execute_reply": "2023-04-08T02:41:14.243787Z"
    },
    "papermill": {
     "duration": 0.017809,
     "end_time": "2023-04-08T02:41:14.247721",
     "exception": false,
     "start_time": "2023-04-08T02:41:14.229912",
     "status": "completed"
    },
    "tags": []
   },
   "outputs": [],
   "source": [
    "# filling null values\n",
    "df.fillna(df.mean(), inplace = True)"
   ]
  },
  {
   "cell_type": "markdown",
   "id": "584dafd4",
   "metadata": {
    "papermill": {
     "duration": 0.004633,
     "end_time": "2023-04-08T02:41:14.257466",
     "exception": false,
     "start_time": "2023-04-08T02:41:14.252833",
     "status": "completed"
    },
    "tags": []
   },
   "source": [
    "# Identifying and excluding outliers"
   ]
  },
  {
   "cell_type": "code",
   "execution_count": 9,
   "id": "2960a763",
   "metadata": {},
   "outputs": [
    {
     "data": {
      "text/html": [
       "<div>\n",
       "<style scoped>\n",
       "    .dataframe tbody tr th:only-of-type {\n",
       "        vertical-align: middle;\n",
       "    }\n",
       "\n",
       "    .dataframe tbody tr th {\n",
       "        vertical-align: top;\n",
       "    }\n",
       "\n",
       "    .dataframe thead th {\n",
       "        text-align: right;\n",
       "    }\n",
       "</style>\n",
       "<table border=\"1\" class=\"dataframe\">\n",
       "  <thead>\n",
       "    <tr style=\"text-align: right;\">\n",
       "      <th></th>\n",
       "      <th>BALANCE</th>\n",
       "      <th>BALANCE_FREQUENCY</th>\n",
       "      <th>PURCHASES</th>\n",
       "      <th>ONEOFF_PURCHASES</th>\n",
       "      <th>INSTALLMENTS_PURCHASES</th>\n",
       "      <th>CASH_ADVANCE</th>\n",
       "      <th>PURCHASES_FREQUENCY</th>\n",
       "      <th>ONEOFF_PURCHASES_FREQUENCY</th>\n",
       "      <th>PURCHASES_INSTALLMENTS_FREQUENCY</th>\n",
       "      <th>CASH_ADVANCE_FREQUENCY</th>\n",
       "      <th>CASH_ADVANCE_TRX</th>\n",
       "      <th>PURCHASES_TRX</th>\n",
       "      <th>CREDIT_LIMIT</th>\n",
       "      <th>PAYMENTS</th>\n",
       "      <th>MINIMUM_PAYMENTS</th>\n",
       "      <th>PRC_FULL_PAYMENT</th>\n",
       "      <th>TENURE</th>\n",
       "    </tr>\n",
       "  </thead>\n",
       "  <tbody>\n",
       "    <tr>\n",
       "      <th>count</th>\n",
       "      <td>8950.000000</td>\n",
       "      <td>8950.000000</td>\n",
       "      <td>8950.000000</td>\n",
       "      <td>8950.000000</td>\n",
       "      <td>8950.000000</td>\n",
       "      <td>8950.000000</td>\n",
       "      <td>8950.000000</td>\n",
       "      <td>8950.000000</td>\n",
       "      <td>8950.000000</td>\n",
       "      <td>8950.000000</td>\n",
       "      <td>8950.000000</td>\n",
       "      <td>8950.000000</td>\n",
       "      <td>8950.000000</td>\n",
       "      <td>8950.000000</td>\n",
       "      <td>8950.000000</td>\n",
       "      <td>8950.000000</td>\n",
       "      <td>8950.000000</td>\n",
       "    </tr>\n",
       "    <tr>\n",
       "      <th>mean</th>\n",
       "      <td>1564.474828</td>\n",
       "      <td>0.877271</td>\n",
       "      <td>1003.204834</td>\n",
       "      <td>592.437371</td>\n",
       "      <td>411.067645</td>\n",
       "      <td>978.871112</td>\n",
       "      <td>0.490351</td>\n",
       "      <td>0.202458</td>\n",
       "      <td>0.364437</td>\n",
       "      <td>0.135144</td>\n",
       "      <td>3.248827</td>\n",
       "      <td>14.709832</td>\n",
       "      <td>4494.449450</td>\n",
       "      <td>1733.143852</td>\n",
       "      <td>864.206542</td>\n",
       "      <td>0.153715</td>\n",
       "      <td>11.517318</td>\n",
       "    </tr>\n",
       "    <tr>\n",
       "      <th>std</th>\n",
       "      <td>2081.531879</td>\n",
       "      <td>0.236904</td>\n",
       "      <td>2136.634782</td>\n",
       "      <td>1659.887917</td>\n",
       "      <td>904.338115</td>\n",
       "      <td>2097.163877</td>\n",
       "      <td>0.401371</td>\n",
       "      <td>0.298336</td>\n",
       "      <td>0.397448</td>\n",
       "      <td>0.200121</td>\n",
       "      <td>6.824647</td>\n",
       "      <td>24.857649</td>\n",
       "      <td>3638.612411</td>\n",
       "      <td>2895.063757</td>\n",
       "      <td>2330.588021</td>\n",
       "      <td>0.292499</td>\n",
       "      <td>1.338331</td>\n",
       "    </tr>\n",
       "    <tr>\n",
       "      <th>min</th>\n",
       "      <td>0.000000</td>\n",
       "      <td>0.000000</td>\n",
       "      <td>0.000000</td>\n",
       "      <td>0.000000</td>\n",
       "      <td>0.000000</td>\n",
       "      <td>0.000000</td>\n",
       "      <td>0.000000</td>\n",
       "      <td>0.000000</td>\n",
       "      <td>0.000000</td>\n",
       "      <td>0.000000</td>\n",
       "      <td>0.000000</td>\n",
       "      <td>0.000000</td>\n",
       "      <td>50.000000</td>\n",
       "      <td>0.000000</td>\n",
       "      <td>0.019163</td>\n",
       "      <td>0.000000</td>\n",
       "      <td>6.000000</td>\n",
       "    </tr>\n",
       "    <tr>\n",
       "      <th>25%</th>\n",
       "      <td>128.281915</td>\n",
       "      <td>0.888889</td>\n",
       "      <td>39.635000</td>\n",
       "      <td>0.000000</td>\n",
       "      <td>0.000000</td>\n",
       "      <td>0.000000</td>\n",
       "      <td>0.083333</td>\n",
       "      <td>0.000000</td>\n",
       "      <td>0.000000</td>\n",
       "      <td>0.000000</td>\n",
       "      <td>0.000000</td>\n",
       "      <td>1.000000</td>\n",
       "      <td>1600.000000</td>\n",
       "      <td>383.276166</td>\n",
       "      <td>170.857654</td>\n",
       "      <td>0.000000</td>\n",
       "      <td>12.000000</td>\n",
       "    </tr>\n",
       "    <tr>\n",
       "      <th>50%</th>\n",
       "      <td>873.385231</td>\n",
       "      <td>1.000000</td>\n",
       "      <td>361.280000</td>\n",
       "      <td>38.000000</td>\n",
       "      <td>89.000000</td>\n",
       "      <td>0.000000</td>\n",
       "      <td>0.500000</td>\n",
       "      <td>0.083333</td>\n",
       "      <td>0.166667</td>\n",
       "      <td>0.000000</td>\n",
       "      <td>0.000000</td>\n",
       "      <td>7.000000</td>\n",
       "      <td>3000.000000</td>\n",
       "      <td>856.901546</td>\n",
       "      <td>335.628312</td>\n",
       "      <td>0.000000</td>\n",
       "      <td>12.000000</td>\n",
       "    </tr>\n",
       "    <tr>\n",
       "      <th>75%</th>\n",
       "      <td>2054.140036</td>\n",
       "      <td>1.000000</td>\n",
       "      <td>1110.130000</td>\n",
       "      <td>577.405000</td>\n",
       "      <td>468.637500</td>\n",
       "      <td>1113.821139</td>\n",
       "      <td>0.916667</td>\n",
       "      <td>0.300000</td>\n",
       "      <td>0.750000</td>\n",
       "      <td>0.222222</td>\n",
       "      <td>4.000000</td>\n",
       "      <td>17.000000</td>\n",
       "      <td>6500.000000</td>\n",
       "      <td>1901.134317</td>\n",
       "      <td>864.206542</td>\n",
       "      <td>0.142857</td>\n",
       "      <td>12.000000</td>\n",
       "    </tr>\n",
       "    <tr>\n",
       "      <th>max</th>\n",
       "      <td>19043.138560</td>\n",
       "      <td>1.000000</td>\n",
       "      <td>49039.570000</td>\n",
       "      <td>40761.250000</td>\n",
       "      <td>22500.000000</td>\n",
       "      <td>47137.211760</td>\n",
       "      <td>1.000000</td>\n",
       "      <td>1.000000</td>\n",
       "      <td>1.000000</td>\n",
       "      <td>1.500000</td>\n",
       "      <td>123.000000</td>\n",
       "      <td>358.000000</td>\n",
       "      <td>30000.000000</td>\n",
       "      <td>50721.483360</td>\n",
       "      <td>76406.207520</td>\n",
       "      <td>1.000000</td>\n",
       "      <td>12.000000</td>\n",
       "    </tr>\n",
       "  </tbody>\n",
       "</table>\n",
       "</div>"
      ],
      "text/plain": [
       "            BALANCE  BALANCE_FREQUENCY     PURCHASES  ONEOFF_PURCHASES  \\\n",
       "count   8950.000000        8950.000000   8950.000000       8950.000000   \n",
       "mean    1564.474828           0.877271   1003.204834        592.437371   \n",
       "std     2081.531879           0.236904   2136.634782       1659.887917   \n",
       "min        0.000000           0.000000      0.000000          0.000000   \n",
       "25%      128.281915           0.888889     39.635000          0.000000   \n",
       "50%      873.385231           1.000000    361.280000         38.000000   \n",
       "75%     2054.140036           1.000000   1110.130000        577.405000   \n",
       "max    19043.138560           1.000000  49039.570000      40761.250000   \n",
       "\n",
       "       INSTALLMENTS_PURCHASES  CASH_ADVANCE  PURCHASES_FREQUENCY  \\\n",
       "count             8950.000000   8950.000000          8950.000000   \n",
       "mean               411.067645    978.871112             0.490351   \n",
       "std                904.338115   2097.163877             0.401371   \n",
       "min                  0.000000      0.000000             0.000000   \n",
       "25%                  0.000000      0.000000             0.083333   \n",
       "50%                 89.000000      0.000000             0.500000   \n",
       "75%                468.637500   1113.821139             0.916667   \n",
       "max              22500.000000  47137.211760             1.000000   \n",
       "\n",
       "       ONEOFF_PURCHASES_FREQUENCY  PURCHASES_INSTALLMENTS_FREQUENCY  \\\n",
       "count                 8950.000000                       8950.000000   \n",
       "mean                     0.202458                          0.364437   \n",
       "std                      0.298336                          0.397448   \n",
       "min                      0.000000                          0.000000   \n",
       "25%                      0.000000                          0.000000   \n",
       "50%                      0.083333                          0.166667   \n",
       "75%                      0.300000                          0.750000   \n",
       "max                      1.000000                          1.000000   \n",
       "\n",
       "       CASH_ADVANCE_FREQUENCY  CASH_ADVANCE_TRX  PURCHASES_TRX  CREDIT_LIMIT  \\\n",
       "count             8950.000000       8950.000000    8950.000000   8950.000000   \n",
       "mean                 0.135144          3.248827      14.709832   4494.449450   \n",
       "std                  0.200121          6.824647      24.857649   3638.612411   \n",
       "min                  0.000000          0.000000       0.000000     50.000000   \n",
       "25%                  0.000000          0.000000       1.000000   1600.000000   \n",
       "50%                  0.000000          0.000000       7.000000   3000.000000   \n",
       "75%                  0.222222          4.000000      17.000000   6500.000000   \n",
       "max                  1.500000        123.000000     358.000000  30000.000000   \n",
       "\n",
       "           PAYMENTS  MINIMUM_PAYMENTS  PRC_FULL_PAYMENT       TENURE  \n",
       "count   8950.000000       8950.000000       8950.000000  8950.000000  \n",
       "mean    1733.143852        864.206542          0.153715    11.517318  \n",
       "std     2895.063757       2330.588021          0.292499     1.338331  \n",
       "min        0.000000          0.019163          0.000000     6.000000  \n",
       "25%      383.276166        170.857654          0.000000    12.000000  \n",
       "50%      856.901546        335.628312          0.000000    12.000000  \n",
       "75%     1901.134317        864.206542          0.142857    12.000000  \n",
       "max    50721.483360      76406.207520          1.000000    12.000000  "
      ]
     },
     "execution_count": 9,
     "metadata": {},
     "output_type": "execute_result"
    }
   ],
   "source": [
    "df.describe()"
   ]
  },
  {
   "cell_type": "code",
   "execution_count": 10,
   "id": "3743412a",
   "metadata": {},
   "outputs": [
    {
     "data": {
      "text/plain": [
       "<AxesSubplot:>"
      ]
     },
     "execution_count": 10,
     "metadata": {},
     "output_type": "execute_result"
    },
    {
     "data": {
      "image/png": "[encoded data removed]",
      "text/plain": [
       "<Figure size 432x288 with 1 Axes>"
      ]
     },
     "metadata": {
      "needs_background": "light"
     },
     "output_type": "display_data"
    }
   ],
   "source": [
    "df['PURCHASES'].plot.box()"
   ]
  },
  {
   "cell_type": "code",
   "execution_count": 11,
   "id": "82276781",
   "metadata": {
    "execution": {
     "iopub.execute_input": "2023-04-08T02:41:14.268809Z",
     "iopub.status.busy": "2023-04-08T02:41:14.268440Z",
     "iopub.status.idle": "2023-04-08T02:41:14.299822Z",
     "shell.execute_reply": "2023-04-08T02:41:14.298851Z"
    },
    "papermill": {
     "duration": 0.039971,
     "end_time": "2023-04-08T02:41:14.302110",
     "exception": false,
     "start_time": "2023-04-08T02:41:14.262139",
     "status": "completed"
    },
    "tags": []
   },
   "outputs": [
    {
     "name": "stdout",
     "output_type": "stream",
     "text": [
      "Média:  BALANCE                             1564.474828\n",
      "BALANCE_FREQUENCY                      0.877271\n",
      "PURCHASES                           1003.204834\n",
      "ONEOFF_PURCHASES                     592.437371\n",
      "INSTALLMENTS_PURCHASES               411.067645\n",
      "CASH_ADVANCE                         978.871112\n",
      "PURCHASES_FREQUENCY                    0.490351\n",
      "ONEOFF_PURCHASES_FREQUENCY             0.202458\n",
      "PURCHASES_INSTALLMENTS_FREQUENCY       0.364437\n",
      "CASH_ADVANCE_FREQUENCY                 0.135144\n",
      "CASH_ADVANCE_TRX                       3.248827\n",
      "PURCHASES_TRX                         14.709832\n",
      "CREDIT_LIMIT                        4494.449450\n",
      "PAYMENTS                            1733.143852\n",
      "MINIMUM_PAYMENTS                     864.206542\n",
      "PRC_FULL_PAYMENT                       0.153715\n",
      "TENURE                                11.517318\n",
      "dtype: float64\n",
      "\n",
      "Desvio Padrão:  BALANCE                             2081.531879\n",
      "BALANCE_FREQUENCY                      0.236904\n",
      "PURCHASES                           2136.634782\n",
      "ONEOFF_PURCHASES                    1659.887917\n",
      "INSTALLMENTS_PURCHASES               904.338115\n",
      "CASH_ADVANCE                        2097.163877\n",
      "PURCHASES_FREQUENCY                    0.401371\n",
      "ONEOFF_PURCHASES_FREQUENCY             0.298336\n",
      "PURCHASES_INSTALLMENTS_FREQUENCY       0.397448\n",
      "CASH_ADVANCE_FREQUENCY                 0.200121\n",
      "CASH_ADVANCE_TRX                       6.824647\n",
      "PURCHASES_TRX                         24.857649\n",
      "CREDIT_LIMIT                        3638.612411\n",
      "PAYMENTS                            2895.063757\n",
      "MINIMUM_PAYMENTS                    2330.588021\n",
      "PRC_FULL_PAYMENT                       0.292499\n",
      "TENURE                                 1.338331\n",
      "dtype: float64\n",
      "\n",
      "Limite Superior:  BALANCE                              7809.070466\n",
      "BALANCE_FREQUENCY                       1.587983\n",
      "PURCHASES                            7413.109179\n",
      "ONEOFF_PURCHASES                     5572.101123\n",
      "INSTALLMENTS_PURCHASES               3124.081990\n",
      "CASH_ADVANCE                         7270.362742\n",
      "PURCHASES_FREQUENCY                     1.694463\n",
      "ONEOFF_PURCHASES_FREQUENCY              1.097466\n",
      "PURCHASES_INSTALLMENTS_FREQUENCY        1.556781\n",
      "CASH_ADVANCE_FREQUENCY                  0.735508\n",
      "CASH_ADVANCE_TRX                       23.722767\n",
      "PURCHASES_TRX                          89.282780\n",
      "CREDIT_LIMIT                        15410.286684\n",
      "PAYMENTS                            10418.335123\n",
      "MINIMUM_PAYMENTS                     7855.970606\n",
      "PRC_FULL_PAYMENT                        1.031212\n",
      "TENURE                                 15.532311\n",
      "dtype: float64\n",
      "\n",
      "Limite Inferior:  BALANCE                            -4680.120811\n",
      "BALANCE_FREQUENCY                      0.166559\n",
      "PURCHASES                          -5406.699512\n",
      "ONEOFF_PURCHASES                   -4387.226381\n",
      "INSTALLMENTS_PURCHASES             -2301.946701\n",
      "CASH_ADVANCE                       -5312.620517\n",
      "PURCHASES_FREQUENCY                   -0.713762\n",
      "ONEOFF_PURCHASES_FREQUENCY            -0.692551\n",
      "PURCHASES_INSTALLMENTS_FREQUENCY      -0.827906\n",
      "CASH_ADVANCE_FREQUENCY                -0.465220\n",
      "CASH_ADVANCE_TRX                     -17.225113\n",
      "PURCHASES_TRX                        -59.863115\n",
      "CREDIT_LIMIT                       -6421.387784\n",
      "PAYMENTS                           -6952.047419\n",
      "MINIMUM_PAYMENTS                   -6127.557521\n",
      "PRC_FULL_PAYMENT                      -0.723783\n",
      "TENURE                                 7.502326\n",
      "dtype: float64\n",
      "\n",
      "Outliers:  6     ONEOFF_PURCHASES     6402.63000\n",
      "19    MINIMUM_PAYMENTS    12465.54938\n",
      "20    MINIMUM_PAYMENTS    13557.29726\n",
      "21    ONEOFF_PURCHASES     5910.04000\n",
      "      PURCHASES_TRX          92.00000\n",
      "                             ...     \n",
      "8945  TENURE                  6.00000\n",
      "8946  TENURE                  6.00000\n",
      "8947  TENURE                  6.00000\n",
      "8948  TENURE                  6.00000\n",
      "8949  TENURE                  6.00000\n",
      "Length: 2311, dtype: float64\n"
     ]
    }
   ],
   "source": [
    "media = df.mean()\n",
    "desvio_padrao = df.std()\n",
    "limite_superior = media + 3 * desvio_padrao\n",
    "limite_inferior = media - 3 * desvio_padrao\n",
    "outliers = df[(df > limite_superior) | (df < limite_inferior)].stack()\n",
    "\n",
    "print(\"Média: \", media)\n",
    "print()\n",
    "print(\"Desvio Padrão: \", desvio_padrao)\n",
    "print()\n",
    "print(\"Limite Superior: \", limite_superior)\n",
    "print()\n",
    "print(\"Limite Inferior: \", limite_inferior)\n",
    "print()\n",
    "print(\"Outliers: \", outliers)"
   ]
  },
  {
   "cell_type": "code",
   "execution_count": 12,
   "id": "d96a702e",
   "metadata": {
    "execution": {
     "iopub.execute_input": "2023-04-08T02:41:14.313726Z",
     "iopub.status.busy": "2023-04-08T02:41:14.313392Z",
     "iopub.status.idle": "2023-04-08T02:41:14.319829Z",
     "shell.execute_reply": "2023-04-08T02:41:14.318905Z"
    },
    "papermill": {
     "duration": 0.014902,
     "end_time": "2023-04-08T02:41:14.322289",
     "exception": false,
     "start_time": "2023-04-08T02:41:14.307387",
     "status": "completed"
    },
    "tags": []
   },
   "outputs": [],
   "source": [
    "df_clean = df.drop(outliers.index.get_level_values(0))"
   ]
  },
  {
   "cell_type": "code",
   "execution_count": 13,
   "id": "325caf05",
   "metadata": {},
   "outputs": [
    {
     "name": "stdout",
     "output_type": "stream",
     "text": [
      "<class 'pandas.core.frame.DataFrame'>\n",
      "Int64Index: 7434 entries, 0 to 8880\n",
      "Data columns (total 17 columns):\n",
      " #   Column                            Non-Null Count  Dtype  \n",
      "---  ------                            --------------  -----  \n",
      " 0   BALANCE                           7434 non-null   float64\n",
      " 1   BALANCE_FREQUENCY                 7434 non-null   float64\n",
      " 2   PURCHASES                         7434 non-null   float64\n",
      " 3   ONEOFF_PURCHASES                  7434 non-null   float64\n",
      " 4   INSTALLMENTS_PURCHASES            7434 non-null   float64\n",
      " 5   CASH_ADVANCE                      7434 non-null   float64\n",
      " 6   PURCHASES_FREQUENCY               7434 non-null   float64\n",
      " 7   ONEOFF_PURCHASES_FREQUENCY        7434 non-null   float64\n",
      " 8   PURCHASES_INSTALLMENTS_FREQUENCY  7434 non-null   float64\n",
      " 9   CASH_ADVANCE_FREQUENCY            7434 non-null   float64\n",
      " 10  CASH_ADVANCE_TRX                  7434 non-null   int64  \n",
      " 11  PURCHASES_TRX                     7434 non-null   int64  \n",
      " 12  CREDIT_LIMIT                      7434 non-null   float64\n",
      " 13  PAYMENTS                          7434 non-null   float64\n",
      " 14  MINIMUM_PAYMENTS                  7434 non-null   float64\n",
      " 15  PRC_FULL_PAYMENT                  7434 non-null   float64\n",
      " 16  TENURE                            7434 non-null   int64  \n",
      "dtypes: float64(14), int64(3)\n",
      "memory usage: 1.0 MB\n"
     ]
    }
   ],
   "source": [
    "df_clean.info()"
   ]
  },
  {
   "cell_type": "markdown",
   "id": "18ca4f64",
   "metadata": {
    "papermill": {
     "duration": 0.004631,
     "end_time": "2023-04-08T02:41:14.332166",
     "exception": false,
     "start_time": "2023-04-08T02:41:14.327535",
     "status": "completed"
    },
    "tags": []
   },
   "source": [
    "# Correlation"
   ]
  },
  {
   "cell_type": "code",
   "execution_count": 15,
   "id": "4456f522",
   "metadata": {
    "execution": {
     "iopub.execute_input": "2023-04-08T02:41:14.344563Z",
     "iopub.status.busy": "2023-04-08T02:41:14.344113Z",
     "iopub.status.idle": "2023-04-08T02:41:15.748000Z",
     "shell.execute_reply": "2023-04-08T02:41:15.747188Z"
    },
    "papermill": {
     "duration": 1.414502,
     "end_time": "2023-04-08T02:41:15.751466",
     "exception": false,
     "start_time": "2023-04-08T02:41:14.336964",
     "status": "completed"
    },
    "tags": []
   },
   "outputs": [
    {
     "data": {
      "text/plain": [
       "<AxesSubplot:>"
      ]
     },
     "execution_count": 15,
     "metadata": {},
     "output_type": "execute_result"
    },
    {
     "data": {
      "image/png": "[encoded data removed]",
      "text/plain": [
       "<Figure size 864x720 with 2 Axes>"
      ]
     },
     "metadata": {
      "needs_background": "light"
     },
     "output_type": "display_data"
    }
   ],
   "source": [
    "plt.figure(figsize = (12, 10))\n",
    "sns.heatmap(df_clean.corr(), annot = True)"
   ]
  },
  {
   "cell_type": "markdown",
   "id": "d686cc63",
   "metadata": {
    "papermill": {
     "duration": 0.007974,
     "end_time": "2023-04-08T02:41:15.767806",
     "exception": false,
     "start_time": "2023-04-08T02:41:15.759832",
     "status": "completed"
    },
    "tags": []
   },
   "source": [
    "# Determining the number of clusters"
   ]
  },
  {
   "cell_type": "code",
   "execution_count": 21,
   "id": "06a77d16",
   "metadata": {},
   "outputs": [
    {
     "name": "stdout",
     "output_type": "stream",
     "text": [
      "WCSS for k = 1: 126759741463.453\n",
      "WCSS for k = 2: 74629888182.836\n",
      "WCSS for k = 3: 62985400623.802\n",
      "WCSS for k = 4: 54998421121.248\n",
      "WCSS for k = 5: 49268371490.097\n",
      "WCSS for k = 6: 44986048539.760\n",
      "WCSS for k = 7: 41333881868.090\n",
      "WCSS for k = 8: 38572370442.155\n",
      "WCSS for k = 9: 36523217878.057\n",
      "WCSS for k = 10: 34467562963.525\n",
      "WCSS for k = 11: 32801526560.799\n",
      "WCSS for k = 12: 31405598398.698\n",
      "WCSS for k = 13: 30077123872.015\n",
      "WCSS for k = 14: 29215023753.261\n",
      "WCSS for k = 15: 27982094620.025\n",
      "WCSS for k = 16: 27057530293.005\n",
      "WCSS for k = 17: 26191066021.183\n",
      "WCSS for k = 18: 25477049780.107\n",
      "WCSS for k = 19: 24716918046.413\n",
      "WCSS for k = 20: 24053036392.443\n",
      "WCSS for k = 21: 23340024332.550\n",
      "WCSS for k = 22: 22784318958.934\n",
      "WCSS for k = 23: 22287302259.508\n",
      "WCSS for k = 24: 21745481569.854\n",
      "WCSS for k = 25: 21382199810.972\n",
      "WCSS for k = 26: 20800582111.094\n",
      "WCSS for k = 27: 20570009113.502\n",
      "WCSS for k = 28: 19960922389.469\n",
      "WCSS for k = 29: 19659923737.772\n",
      "WCSS for k = 30: 19391677898.930\n"
     ]
    }
   ],
   "source": [
    "from sklearn.cluster import KMeans\n",
    "wcss = []\n",
    "for i in range (1,31):\n",
    "    kmeans = KMeans(n_clusters = i, init = 'k-means++', max_iter =300, n_init = 10, random_state = 0)\n",
    "    kmeans.fit(df_clean)\n",
    "    wcss.append(kmeans.inertia_)\n",
    "    print('WCSS for k = {}: {:<.3f}'.format(i, kmeans.inertia_))"
   ]
  },
  {
   "cell_type": "code",
   "execution_count": 24,
   "id": "1788b8f9",
   "metadata": {},
   "outputs": [
    {
     "data": {
      "image/png": "[encoded data removed]",
      "text/plain": [
       "<Figure size 432x288 with 1 Axes>"
      ]
     },
     "metadata": {
      "needs_background": "light"
     },
     "output_type": "display_data"
    }
   ],
   "source": [
    "plt.plot(range(1,31),wcss)\n",
    "plt.title('The Elbow Method')\n",
    "plt.xlabel('Number of clusters')\n",
    "plt.ylabel('WCSS')\n",
    "plt.show()"
   ]
  },
  {
   "cell_type": "markdown",
   "id": "5d33ef6c",
   "metadata": {
    "papermill": {
     "duration": 0.009486,
     "end_time": "2023-04-08T02:42:16.143570",
     "exception": false,
     "start_time": "2023-04-08T02:42:16.134084",
     "status": "completed"
    },
    "tags": []
   },
   "source": [
    "# Application of K-means and PCA for Dimension Reduction"
   ]
  },
  {
   "cell_type": "code",
   "execution_count": 48,
   "id": "07b90041",
   "metadata": {
    "execution": {
     "iopub.execute_input": "2023-04-08T02:42:16.166415Z",
     "iopub.status.busy": "2023-04-08T02:42:16.164841Z",
     "iopub.status.idle": "2023-04-08T02:42:17.570158Z",
     "shell.execute_reply": "2023-04-08T02:42:17.569399Z"
    },
    "papermill": {
     "duration": 1.419223,
     "end_time": "2023-04-08T02:42:17.572656",
     "exception": false,
     "start_time": "2023-04-08T02:42:16.153433",
     "status": "completed"
    },
    "tags": []
   },
   "outputs": [
    {
     "name": "stdout",
     "output_type": "stream",
     "text": [
      "(7434, 2)\n"
     ]
    }
   ],
   "source": [
    "# Data\n",
    "ss = StandardScaler()\n",
    "X = ss.fit_transform(df_clean)\n",
    "\n",
    "# Reducing Dimensions\n",
    "pca = PCA(n_components = 2)\n",
    "X_pca = pca.fit_transform(X)\n",
    "print(X_pca.shape)\n",
    "# Fit KMeans\n",
    "kmeans = KMeans(n_clusters = 3, random_state = 0)\n",
    "kmeans.fit(X_pca)\n",
    "pred = kmeans.predict(X_pca)"
   ]
  },
  {
   "cell_type": "markdown",
   "id": "03ae8b91",
   "metadata": {
    "papermill": {
     "duration": 0.009283,
     "end_time": "2023-04-08T02:42:17.592196",
     "exception": false,
     "start_time": "2023-04-08T02:42:17.582913",
     "status": "completed"
    },
    "tags": []
   },
   "source": [
    "# Plotting the clusters"
   ]
  },
  {
   "cell_type": "code",
   "execution_count": 30,
   "id": "d868d2c9",
   "metadata": {},
   "outputs": [
    {
     "name": "stdout",
     "output_type": "stream",
     "text": [
      "WCSS for k = 1: 74388.031\n",
      "WCSS for k = 2: 49870.120\n",
      "WCSS for k = 3: 35038.663\n",
      "WCSS for k = 4: 26369.475\n",
      "WCSS for k = 5: 22768.418\n",
      "WCSS for k = 6: 19766.704\n",
      "WCSS for k = 7: 17548.109\n",
      "WCSS for k = 8: 15773.266\n",
      "WCSS for k = 9: 14646.520\n",
      "WCSS for k = 10: 13674.453\n",
      "WCSS for k = 11: 12792.233\n",
      "WCSS for k = 12: 11995.967\n",
      "WCSS for k = 13: 11388.856\n",
      "WCSS for k = 14: 10818.975\n",
      "WCSS for k = 15: 10275.993\n",
      "WCSS for k = 16: 9750.605\n",
      "WCSS for k = 17: 9310.614\n",
      "WCSS for k = 18: 8991.278\n",
      "WCSS for k = 19: 8685.711\n",
      "WCSS for k = 20: 8405.730\n",
      "WCSS for k = 21: 8136.472\n",
      "WCSS for k = 22: 7927.318\n",
      "WCSS for k = 23: 7623.767\n",
      "WCSS for k = 24: 7443.099\n",
      "WCSS for k = 25: 7238.203\n",
      "WCSS for k = 26: 7020.696\n",
      "WCSS for k = 27: 6890.407\n",
      "WCSS for k = 28: 6726.283\n",
      "WCSS for k = 29: 6532.314\n",
      "WCSS for k = 30: 6386.606\n"
     ]
    }
   ],
   "source": [
    "from sklearn.cluster import KMeans\n",
    "wcss = []\n",
    "for i in range (1,31):\n",
    "    kmeans = KMeans(n_clusters = i, init = 'k-means++', max_iter =300, n_init = 10, random_state = 0)\n",
    "    kmeans.fit(X_pca)\n",
    "    wcss.append(kmeans.inertia_)\n",
    "    print('WCSS for k = {}: {:<.3f}'.format(i, kmeans.inertia_))"
   ]
  },
  {
   "cell_type": "code",
   "execution_count": 31,
   "id": "c1d2c8fd",
   "metadata": {},
   "outputs": [
    {
     "data": {
      "image/png": "[encoded data removed]",
      "text/plain": [
       "<Figure size 432x288 with 1 Axes>"
      ]
     },
     "metadata": {
      "needs_background": "light"
     },
     "output_type": "display_data"
    }
   ],
   "source": [
    "plt.plot(range(1,31),wcss)\n",
    "plt.title('The Elbow Method')\n",
    "plt.xlabel('Number of clusters')\n",
    "plt.ylabel('WCSS')\n",
    "plt.show()"
   ]
  },
  {
   "cell_type": "code",
   "execution_count": 50,
   "id": "561a41c8",
   "metadata": {
    "execution": {
     "iopub.execute_input": "2023-04-08T02:42:17.614285Z",
     "iopub.status.busy": "2023-04-08T02:42:17.613155Z",
     "iopub.status.idle": "2023-04-08T02:42:17.853886Z",
     "shell.execute_reply": "2023-04-08T02:42:17.852893Z"
    },
    "papermill": {
     "duration": 0.253917,
     "end_time": "2023-04-08T02:42:17.855808",
     "exception": false,
     "start_time": "2023-04-08T02:42:17.601891",
     "status": "completed"
    },
    "tags": []
   },
   "outputs": [
    {
     "data": {
      "image/png": "[encoded data removed]",
      "text/plain": [
       "<Figure size 432x288 with 1 Axes>"
      ]
     },
     "metadata": {
      "needs_background": "light"
     },
     "output_type": "display_data"
    }
   ],
   "source": [
    "cores = ['m', 'b']\n",
    "for i in range(len(cores)):\n",
    "    plt.scatter(X_pca[pred == i, 0], X_pca[pred == i, 1], s = 50, c = cores[i], label = 'Cluster ' + str(i + 1))\n",
    "    \n",
    "plt.scatter(kmeans.cluster_centers_[:, 0], kmeans.cluster_centers_[:, 1], s = 200, marker = '+', c = 'black', label = 'Centro')\n",
    "plt.legend()\n",
    "plt.show()"
   ]
  },
  {
   "cell_type": "markdown",
   "id": "24d786ac",
   "metadata": {
    "papermill": {
     "duration": 0.009839,
     "end_time": "2023-04-08T02:42:17.875972",
     "exception": false,
     "start_time": "2023-04-08T02:42:17.866133",
     "status": "completed"
    },
    "tags": []
   },
   "source": [
    "_"
   ]
  },
  {
   "cell_type": "code",
   "execution_count": 63,
   "id": "58d271f3",
   "metadata": {},
   "outputs": [
    {
     "name": "stdout",
     "output_type": "stream",
     "text": [
      "Silhouette Score for k = 2: -0.022\n",
      "Silhouette Score for k = 3: 0.004\n",
      "Silhouette Score for k = 4: -0.106\n",
      "Silhouette Score for k = 5: -0.106\n",
      "Silhouette Score for k = 6: -0.094\n",
      "Silhouette Score for k = 7: -0.086\n",
      "Silhouette Score for k = 8: -0.102\n",
      "Silhouette Score for k = 9: -0.102\n",
      "Silhouette Score for k = 10: -0.164\n",
      "Silhouette Score for k = 11: -0.328\n",
      "Silhouette Score for k = 12: -0.322\n",
      "Silhouette Score for k = 13: -0.177\n",
      "Silhouette Score for k = 14: -0.320\n",
      "Silhouette Score for k = 15: -0.340\n",
      "Silhouette Score for k = 16: -0.232\n",
      "Silhouette Score for k = 17: -0.261\n",
      "Silhouette Score for k = 18: -0.222\n",
      "Silhouette Score for k = 19: -0.277\n",
      "Silhouette Score for k = 20: -0.233\n",
      "Silhouette Score for k = 21: -0.281\n",
      "Silhouette Score for k = 22: -0.265\n",
      "Silhouette Score for k = 23: -0.192\n",
      "Silhouette Score for k = 24: -0.236\n",
      "Silhouette Score for k = 25: -0.310\n",
      "Silhouette Score for k = 26: -0.352\n"
     ]
    }
   ],
   "source": [
    "limit = int((df_clean.shape[0] // 2) ** 0.4)\n",
    "  \n",
    "for k in range(2, limit + 1):\n",
    "    model = GaussianMixture(k)\n",
    "    model.fit(df_clean)\n",
    "    pred = model.predict(df_clean)\n",
    "    score = silhouette_score(df_clean, pred)\n",
    "    \n",
    "    print('Silhouette Score for k = {}: {:<.3f}'.format(k, score)) "
   ]
  },
  {
   "cell_type": "code",
   "execution_count": 64,
   "id": "34b26758",
   "metadata": {},
   "outputs": [
    {
     "data": {
      "text/plain": [
       "Text(0.5, 0, 'Number of Clusters')"
      ]
     },
     "execution_count": 64,
     "metadata": {},
     "output_type": "execute_result"
    },
    {
     "data": {
      "image/png": "[encoded data removed]",
      "text/plain": [
       "<Figure size 432x288 with 1 Axes>"
      ]
     },
     "metadata": {
      "needs_background": "light"
     },
     "output_type": "display_data"
    }
   ],
   "source": [
    "n_components = np.arange(1, 11)\n",
    "\n",
    "models = [GaussianMixture(n_components=n, random_state=1502).fit(df) for n in n_components]\n",
    "\n",
    "plt.plot(n_components, [m.bic(df) for m in models], label=\"BIC\")\n",
    "plt.plot(n_components, [m.aic(df) for m in models], label=\"AIC\")\n",
    "plt.legend()\n",
    "plt.xlabel(\"Number of Clusters\")"
   ]
  },
  {
   "cell_type": "code",
   "execution_count": 66,
   "id": "3ac70147",
   "metadata": {},
   "outputs": [],
   "source": [
    "model = GaussianMixture(n_components=5, random_state=1502).fit(df_clean)\n"
   ]
  },
  {
   "cell_type": "code",
   "execution_count": 70,
   "id": "d99d0f02",
   "metadata": {},
   "outputs": [
    {
     "data": {
      "text/plain": [
       "0     4\n",
       "1     0\n",
       "2     4\n",
       "3     2\n",
       "4     4\n",
       "5     2\n",
       "6     4\n",
       "7     4\n",
       "8     4\n",
       "9     2\n",
       "10    4\n",
       "11    4\n",
       "12    4\n",
       "13    0\n",
       "14    2\n",
       "15    0\n",
       "16    4\n",
       "17    4\n",
       "18    4\n",
       "19    0\n",
       "dtype: int64"
      ]
     },
     "execution_count": 70,
     "metadata": {},
     "output_type": "execute_result"
    }
   ],
   "source": [
    "cluster = pd.Series(model.predict(df_clean))\n",
    "labels = model.predict(df_clean)\n",
    "cluster[:20]"
   ]
  },
  {
   "cell_type": "code",
   "execution_count": 71,
   "id": "52018f97",
   "metadata": {},
   "outputs": [
    {
     "data": {
      "text/html": [
       "<div>\n",
       "<style scoped>\n",
       "    .dataframe tbody tr th:only-of-type {\n",
       "        vertical-align: middle;\n",
       "    }\n",
       "\n",
       "    .dataframe tbody tr th {\n",
       "        vertical-align: top;\n",
       "    }\n",
       "\n",
       "    .dataframe thead th {\n",
       "        text-align: right;\n",
       "    }\n",
       "</style>\n",
       "<table border=\"1\" class=\"dataframe\">\n",
       "  <thead>\n",
       "    <tr style=\"text-align: right;\">\n",
       "      <th></th>\n",
       "      <th>BALANCE</th>\n",
       "      <th>BALANCE_FREQUENCY</th>\n",
       "      <th>PURCHASES</th>\n",
       "      <th>ONEOFF_PURCHASES</th>\n",
       "      <th>INSTALLMENTS_PURCHASES</th>\n",
       "      <th>CASH_ADVANCE</th>\n",
       "      <th>PURCHASES_FREQUENCY</th>\n",
       "      <th>ONEOFF_PURCHASES_FREQUENCY</th>\n",
       "      <th>PURCHASES_INSTALLMENTS_FREQUENCY</th>\n",
       "      <th>CASH_ADVANCE_FREQUENCY</th>\n",
       "      <th>CASH_ADVANCE_TRX</th>\n",
       "      <th>PURCHASES_TRX</th>\n",
       "      <th>CREDIT_LIMIT</th>\n",
       "      <th>PAYMENTS</th>\n",
       "      <th>MINIMUM_PAYMENTS</th>\n",
       "      <th>PRC_FULL_PAYMENT</th>\n",
       "      <th>TENURE</th>\n",
       "      <th>Cluster</th>\n",
       "    </tr>\n",
       "  </thead>\n",
       "  <tbody>\n",
       "    <tr>\n",
       "      <th>0</th>\n",
       "      <td>40.900749</td>\n",
       "      <td>0.818182</td>\n",
       "      <td>95.40</td>\n",
       "      <td>0.00</td>\n",
       "      <td>95.4</td>\n",
       "      <td>0.000000</td>\n",
       "      <td>0.166667</td>\n",
       "      <td>0.000000</td>\n",
       "      <td>0.083333</td>\n",
       "      <td>0.000000</td>\n",
       "      <td>0</td>\n",
       "      <td>2</td>\n",
       "      <td>1000.0</td>\n",
       "      <td>201.802084</td>\n",
       "      <td>139.509787</td>\n",
       "      <td>0.000000</td>\n",
       "      <td>12</td>\n",
       "      <td>4.0</td>\n",
       "    </tr>\n",
       "    <tr>\n",
       "      <th>1</th>\n",
       "      <td>3202.467416</td>\n",
       "      <td>0.909091</td>\n",
       "      <td>0.00</td>\n",
       "      <td>0.00</td>\n",
       "      <td>0.0</td>\n",
       "      <td>6442.945483</td>\n",
       "      <td>0.000000</td>\n",
       "      <td>0.000000</td>\n",
       "      <td>0.000000</td>\n",
       "      <td>0.250000</td>\n",
       "      <td>4</td>\n",
       "      <td>0</td>\n",
       "      <td>7000.0</td>\n",
       "      <td>4103.032597</td>\n",
       "      <td>1072.340217</td>\n",
       "      <td>0.222222</td>\n",
       "      <td>12</td>\n",
       "      <td>0.0</td>\n",
       "    </tr>\n",
       "    <tr>\n",
       "      <th>2</th>\n",
       "      <td>2495.148862</td>\n",
       "      <td>1.000000</td>\n",
       "      <td>773.17</td>\n",
       "      <td>773.17</td>\n",
       "      <td>0.0</td>\n",
       "      <td>0.000000</td>\n",
       "      <td>1.000000</td>\n",
       "      <td>1.000000</td>\n",
       "      <td>0.000000</td>\n",
       "      <td>0.000000</td>\n",
       "      <td>0</td>\n",
       "      <td>12</td>\n",
       "      <td>7500.0</td>\n",
       "      <td>622.066742</td>\n",
       "      <td>627.284787</td>\n",
       "      <td>0.000000</td>\n",
       "      <td>12</td>\n",
       "      <td>4.0</td>\n",
       "    </tr>\n",
       "    <tr>\n",
       "      <th>3</th>\n",
       "      <td>1666.670542</td>\n",
       "      <td>0.636364</td>\n",
       "      <td>1499.00</td>\n",
       "      <td>1499.00</td>\n",
       "      <td>0.0</td>\n",
       "      <td>205.788017</td>\n",
       "      <td>0.083333</td>\n",
       "      <td>0.083333</td>\n",
       "      <td>0.000000</td>\n",
       "      <td>0.083333</td>\n",
       "      <td>1</td>\n",
       "      <td>1</td>\n",
       "      <td>7500.0</td>\n",
       "      <td>0.000000</td>\n",
       "      <td>864.206542</td>\n",
       "      <td>0.000000</td>\n",
       "      <td>12</td>\n",
       "      <td>2.0</td>\n",
       "    </tr>\n",
       "    <tr>\n",
       "      <th>4</th>\n",
       "      <td>817.714335</td>\n",
       "      <td>1.000000</td>\n",
       "      <td>16.00</td>\n",
       "      <td>16.00</td>\n",
       "      <td>0.0</td>\n",
       "      <td>0.000000</td>\n",
       "      <td>0.083333</td>\n",
       "      <td>0.083333</td>\n",
       "      <td>0.000000</td>\n",
       "      <td>0.000000</td>\n",
       "      <td>0</td>\n",
       "      <td>1</td>\n",
       "      <td>1200.0</td>\n",
       "      <td>678.334763</td>\n",
       "      <td>244.791237</td>\n",
       "      <td>0.000000</td>\n",
       "      <td>12</td>\n",
       "      <td>4.0</td>\n",
       "    </tr>\n",
       "  </tbody>\n",
       "</table>\n",
       "</div>"
      ],
      "text/plain": [
       "       BALANCE  BALANCE_FREQUENCY  PURCHASES  ONEOFF_PURCHASES  \\\n",
       "0    40.900749           0.818182      95.40              0.00   \n",
       "1  3202.467416           0.909091       0.00              0.00   \n",
       "2  2495.148862           1.000000     773.17            773.17   \n",
       "3  1666.670542           0.636364    1499.00           1499.00   \n",
       "4   817.714335           1.000000      16.00             16.00   \n",
       "\n",
       "   INSTALLMENTS_PURCHASES  CASH_ADVANCE  PURCHASES_FREQUENCY  \\\n",
       "0                    95.4      0.000000             0.166667   \n",
       "1                     0.0   6442.945483             0.000000   \n",
       "2                     0.0      0.000000             1.000000   \n",
       "3                     0.0    205.788017             0.083333   \n",
       "4                     0.0      0.000000             0.083333   \n",
       "\n",
       "   ONEOFF_PURCHASES_FREQUENCY  PURCHASES_INSTALLMENTS_FREQUENCY  \\\n",
       "0                    0.000000                          0.083333   \n",
       "1                    0.000000                          0.000000   \n",
       "2                    1.000000                          0.000000   \n",
       "3                    0.083333                          0.000000   \n",
       "4                    0.083333                          0.000000   \n",
       "\n",
       "   CASH_ADVANCE_FREQUENCY  CASH_ADVANCE_TRX  PURCHASES_TRX  CREDIT_LIMIT  \\\n",
       "0                0.000000                 0              2        1000.0   \n",
       "1                0.250000                 4              0        7000.0   \n",
       "2                0.000000                 0             12        7500.0   \n",
       "3                0.083333                 1              1        7500.0   \n",
       "4                0.000000                 0              1        1200.0   \n",
       "\n",
       "      PAYMENTS  MINIMUM_PAYMENTS  PRC_FULL_PAYMENT  TENURE  Cluster  \n",
       "0   201.802084        139.509787          0.000000      12      4.0  \n",
       "1  4103.032597       1072.340217          0.222222      12      0.0  \n",
       "2   622.066742        627.284787          0.000000      12      4.0  \n",
       "3     0.000000        864.206542          0.000000      12      2.0  \n",
       "4   678.334763        244.791237          0.000000      12      4.0  "
      ]
     },
     "execution_count": 71,
     "metadata": {},
     "output_type": "execute_result"
    }
   ],
   "source": [
    "df_clean[\"Cluster\"] = cluster\n",
    "df_clean.head()"
   ]
  },
  {
   "cell_type": "code",
   "execution_count": 72,
   "id": "2ab156ef",
   "metadata": {},
   "outputs": [
    {
     "data": {
      "text/plain": [
       "4.0    3223\n",
       "0.0    1373\n",
       "2.0     960\n",
       "3.0     531\n",
       "1.0     121\n",
       "Name: Cluster, dtype: int64"
      ]
     },
     "execution_count": 72,
     "metadata": {},
     "output_type": "execute_result"
    }
   ],
   "source": [
    "df_clean.Cluster.value_counts()"
   ]
  },
  {
   "cell_type": "code",
   "execution_count": null,
   "id": "59074420",
   "metadata": {},
   "outputs": [],
   "source": []
  }
 ],
 "metadata": {
  "kernelspec": {
   "display_name": "Python 3 (ipykernel)",
   "language": "python",
   "name": "python3"
  },
  "language_info": {
   "codemirror_mode": {
    "name": "ipython",
    "version": 3
   },
   "file_extension": ".py",
   "mimetype": "text/x-python",
   "name": "python",
   "nbconvert_exporter": "python",
   "pygments_lexer": "ipython3",
   "version": "3.9.7"
  },
  "papermill": {
   "default_parameters": {},
   "duration": 74.849728,
   "end_time": "2023-04-08T02:42:18.707160",
   "environment_variables": {},
   "exception": null,
   "input_path": "__notebook__.ipynb",
   "output_path": "__notebook__.ipynb",
   "parameters": {},
   "start_time": "2023-04-08T02:41:03.857432",
   "version": "2.4.0"
  }
 },
 "nbformat": 4,
 "nbformat_minor": 5
}
